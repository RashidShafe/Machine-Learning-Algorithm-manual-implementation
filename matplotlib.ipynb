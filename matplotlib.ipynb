{
 "cells": [
  {
   "cell_type": "code",
   "execution_count": 15,
   "metadata": {},
   "outputs": [],
   "source": [
    "import matplotlib.pyplot as plot\n",
    "import numpy as np"
   ]
  },
  {
   "cell_type": "code",
   "execution_count": 25,
   "metadata": {},
   "outputs": [
    {
     "name": "stdout",
     "output_type": "stream",
     "text": [
      "[ 1  2  3  4  6  5 10 13 20 25 17]\n",
      "[ 4  5  6  8 12  9 21 25 31 37 28]\n"
     ]
    }
   ],
   "source": [
    "x = np.array([1,2,3,4,6,5,10,13,20,25,17])\n",
    "y = np.array([4,5,6,8,12,9,21,25,31,37,28])\n",
    "print(x)\n",
    "print(y)"
   ]
  },
  {
   "cell_type": "code",
   "execution_count": 26,
   "metadata": {},
   "outputs": [
    {
     "data": {
      "image/png": "[encoded data removed]",
      "text/plain": [
       "<Figure size 432x288 with 1 Axes>"
      ]
     },
     "metadata": {
      "needs_background": "light"
     },
     "output_type": "display_data"
    }
   ],
   "source": [
    "plot.scatter(x,y,color=\"red\")\n",
    "plot.show()"
   ]
  },
  {
   "cell_type": "code",
   "execution_count": 27,
   "metadata": {},
   "outputs": [],
   "source": [
    "def hypo(xx,m,c):\n",
    "    p = []\n",
    "    for i in range (len(xx)):\n",
    "        hy = m*xx[i]+c;\n",
    "        p.append(hy)\n",
    "    pp = np.array(p)\n",
    "    return pp\n",
    "\n",
    "def get_dm(xx,yy,z):\n",
    "    dm = 0\n",
    "    i = 0\n",
    "    for j in range (len(xx)):\n",
    "        dm+=xx[i]*(yy[i]-z[i])\n",
    "        i+=1\n",
    "        \n",
    "    dm = -2/len(x)*dm\n",
    "    return dm\n",
    "    \n",
    "def get_dc(yy,z):\n",
    "    dc = 0\n",
    "    for i in range (len(yy)):\n",
    "        dc+=(yy[i]-z[i])\n",
    "    dc = -2/len(x)*dc\n",
    "    return dc"
   ]
  },
  {
   "cell_type": "code",
   "execution_count": 34,
   "metadata": {},
   "outputs": [
    {
     "name": "stdout",
     "output_type": "stream",
     "text": [
      "1.447617720813616\n",
      "2.9593201448868616\n"
     ]
    }
   ],
   "source": [
    "k = 100000\n",
    "m = 0\n",
    "c = 0\n",
    "l = 0.001\n",
    "\n",
    "while(k>0):\n",
    "    k-=1\n",
    "    \n",
    "    pp = hypo(x,m,c)\n",
    "    \n",
    "    dm = get_dm(x,y,pp)\n",
    "    dc = get_dc(y,pp)\n",
    "    \n",
    "    m = m - dm*l\n",
    "    c = c - dc*l\n",
    "    \n",
    "    \n",
    "print(m)\n",
    "print(c)"
   ]
  },
  {
   "cell_type": "code",
   "execution_count": 35,
   "metadata": {},
   "outputs": [
    {
     "name": "stdout",
     "output_type": "stream",
     "text": [
      "[ 4.40693787  5.85455559  7.30217331  8.74979103 11.64502647 10.19740875\n",
      " 17.43549735 21.77835052 31.91167456 39.14976317 27.5688214 ]\n"
     ]
    }
   ],
   "source": [
    "p = hypo(x,m,c)\n",
    "print(p)"
   ]
  },
  {
   "cell_type": "code",
   "execution_count": 36,
   "metadata": {},
   "outputs": [
    {
     "data": {
      "image/png": "[encoded data removed]",
      "text/plain": [
       "<Figure size 432x288 with 1 Axes>"
      ]
     },
     "metadata": {
      "needs_background": "light"
     },
     "output_type": "display_data"
    }
   ],
   "source": [
    "plot.scatter(x,y,color=\"green\")\n",
    "plot.plot(x,p,color=\"red\")\n",
    "plot.show()"
   ]
  },
  {
   "cell_type": "code",
   "execution_count": null,
   "metadata": {},
   "outputs": [],
   "source": []
  }
 ],
 "metadata": {
  "kernelspec": {
   "display_name": "Python 3",
   "language": "python",
   "name": "python3"
  },
  "language_info": {
   "codemirror_mode": {
    "name": "ipython",
    "version": 3
   },
   "file_extension": ".py",
   "mimetype": "text/x-python",
   "name": "python",
   "nbconvert_exporter": "python",
   "pygments_lexer": "ipython3",
   "version": "3.8.5"
  }
 },
 "nbformat": 4,
 "nbformat_minor": 2
}
