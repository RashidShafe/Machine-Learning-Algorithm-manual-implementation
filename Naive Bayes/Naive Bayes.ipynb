{
 "cells": [
  {
   "cell_type": "markdown",
   "metadata": {},
   "source": [
    "# Naive Bayes"
   ]
  },
  {
   "cell_type": "markdown",
   "metadata": {},
   "source": [
    "<b>Dataset Collected From International Cricket Council's (ICC) facebook Page</b>"
   ]
  },
  {
   "cell_type": "code",
   "execution_count": null,
   "metadata": {},
   "outputs": [],
   "source": [
    "from pprint import pprint\n",
    "from math import log\n",
    "import numpy as np\n",
    "import pandas as pd\n",
    "import operator"
   ]
  },
  {
   "cell_type": "code",
   "execution_count": null,
   "metadata": {},
   "outputs": [],
   "source": [
    "spam=[\n",
    "        'Shakib is a good player',\n",
    "        'He is universal boss of cricket',\n",
    "        'What a match for Shakib',\n",
    "        'Superb performance from tigers',\n",
    "        'Mushfiq is the best batsman',\n",
    "        'Liton drives a very good shot',\n",
    "        'Liton is not a bad wk',\n",
    "        'Samya bawlled a superb over',\n",
    "        'Mash is a great captain',\n",
    "        'Shakib stokes a beautyful shot',\n",
    "        'The wicket is very good for batting',\n",
    "        'Musfiq is best for slog sweep',\n",
    "        'Shakib is the No.1 allrounder',\n",
    "        'Nice trophy and congratulations Bangladesh',\n",
    "        'Inshallah the tigers will win',\n",
    "        'What a gentle personality he has',\n",
    "        'Shakib has a cute daughter',\n",
    "        'He is universal boss of cricket',\n",
    "        'What a beautyful six by Shakib',\n",
    "        'Shakib is the best tiger',\n",
    "        'Bangladesh is not the lossing side',\n",
    "        'Liton has a beautyful bat',\n",
    "        'Liton is good for all formets',\n",
    "        'Mash bawlled a gantle over',\n",
    "        'Mash is the best captain',\n",
    "        'Shakib wife is beautyful',\n",
    "        'The wicket is not bad for bowlling',\n",
    "        'Gayle is best for hitting six',\n",
    "        'Kohli is the No.1 batsman',\n",
    "        'Bangladesh win the series',\n",
    "        'The tigers played not bad',\n",
    "        'What a catch by jonty',\n",
    "        'BCB prasident is a kind person.',\n",
    "        'Kohli is one of the great of all time',\n",
    "        'Sachin is a gantleman',\n",
    "        'Cricket is gantleman game',\n",
    "        'Australia is the top team',\n",
    "        'Showrab is taking some good decision',\n",
    "        'Alisa is a very beautyful cricket player',\n",
    "        'Shakib is a smart cricketer',\n",
    "        'BPL is the best',\n",
    "        'Bangladesh will win the match',\n",
    "        'The weather is nice at Mirpur',\n",
    "        'Rashid is the a better spinner',\n",
    "        'Nice to play cricket',\n",
    "        'Jack was No.1 South African',\n",
    "        'Shakib got a good news',\n",
    "        'Best fielding all over teams',\n",
    "        'The crowed are enjoying the match',\n",
    "        'Kohli feel confortabe to captain',\n",
    "    ]\n",
    "ham=[\n",
    "        \n",
    "        'Mominul is not a good captain',\n",
    "        'Gayle Does not want to score against India.',\n",
    "        'He is not a very good fielder',\n",
    "        'Afghanistan lose three wickets in the first session.',\n",
    "        'Bad news for Shakib',\n",
    "        'Very bad performance from tigers',\n",
    "        'Mushfiq do not feel confortabe to face a pacer',\n",
    "        'Liton is a color blind cricketer',\n",
    "        'Musfiq is a bad wk',\n",
    "        'Samya is the best bad batsman',\n",
    "        'Mash is not a power hitter',\n",
    "        'Shakib panished by ICC',\n",
    "        'The wicket is not good for batting',\n",
    "        'This is worse umpiring',\n",
    "        'Shakib is not a gantleman',\n",
    "        'It is not good to see shakib is at no.9',\n",
    "        'Bangladesh are passing really a bad time',\n",
    "        'Shewag has not a gentle personality',\n",
    "        'Weather is worse at Mohali',\n",
    "        'He is universal bad batsman',\n",
    "        'This is a wrong decision',\n",
    "        'Samya is not better for opening',\n",
    "        'Liton has a ugly bat',\n",
    "        'Mustafiz is not a good choice for all formets',\n",
    "        'Mash bawlled a bad over',\n",
    "        'Shakib is a very bad captain',\n",
    "        'Shakib wife is not beautyful',\n",
    "        'The wicket is bad for bowlling',\n",
    "        'Gayle is not best for hitting six',\n",
    "        'Kohli is not fit for this match',\n",
    "        'Bangladesh dont win the series',\n",
    "        'The tigers played a bad match',\n",
    "        'Jonty is not a good batsman',\n",
    "        'BCB prasident is a guilty person.',\n",
    "        'Kohli is not great of all time',\n",
    "        'Football is not a gantleman game',\n",
    "        'Australia is the losing team',\n",
    "        'Shakib is taking some bad decision',\n",
    "        'Alisa batted not a good innings',\n",
    "        'Shewag thinking is really bad',\n",
    "        'BPL is the not the best',\n",
    "        'Bangladesh didt won the match',\n",
    "        'The weather worse at Mirpur',\n",
    "        'Taijul is not a better spinner',\n",
    "        'Rainy days are not good for play cricket',\n",
    "        'South Africa have a bad session',\n",
    "        'Shakib got a bad good news from ICC',\n",
    "        'Worse fielding all over teams',\n",
    "        'The prasident of BCB not a gantleman',\n",
    "        'Tamim does not feel confortabe to captain'\n",
    "    ]"
   ]
  },
  {
   "cell_type": "code",
   "execution_count": null,
   "metadata": {},
   "outputs": [],
   "source": [
    "s = np.array(spam)\n",
    "print(s.shape)\n",
    "\n",
    "h = np.array(ham)\n",
    "print(h.shape)"
   ]
  },
  {
   "cell_type": "code",
   "execution_count": null,
   "metadata": {},
   "outputs": [],
   "source": [
    "print(spam)"
   ]
  },
  {
   "cell_type": "code",
   "execution_count": null,
   "metadata": {},
   "outputs": [],
   "source": [
    "print(ham)"
   ]
  },
  {
   "cell_type": "code",
   "execution_count": null,
   "metadata": {},
   "outputs": [],
   "source": [
    "corpus=spam.copy()\n",
    "corpus.extend(ham)\n",
    "print(corpus)"
   ]
  },
  {
   "cell_type": "code",
   "execution_count": null,
   "metadata": {},
   "outputs": [],
   "source": [
    "y=np.zeros(len(corpus))\n",
    "#print(y)\n",
    "for i in range( len(spam)):\n",
    "    y[i]=1 \n",
    "print(y)"
   ]
  },
  {
   "cell_type": "code",
   "execution_count": null,
   "metadata": {},
   "outputs": [],
   "source": [
    "len_c=len(corpus)\n",
    "len_s=len(spam)\n",
    "len_h=len(ham)"
   ]
  },
  {
   "cell_type": "code",
   "execution_count": null,
   "metadata": {},
   "outputs": [],
   "source": [
    "def get_t(dat):\n",
    "    return dat.split(' ')"
   ]
  },
  {
   "cell_type": "code",
   "execution_count": null,
   "metadata": {},
   "outputs": [],
   "source": [
    "def build_voca(corpus):\n",
    "    wd={}\n",
    "    for sentence in corpus:\n",
    "        for word in get_t(sentence):\n",
    "            if word in wd:\n",
    "                wd[word]+=1\n",
    "            else:\n",
    "                wd[word]=1\n",
    "    wd=sorted(wd.items(), key=lambda x: x[1],reverse=True)\n",
    "    return dict(wd)"
   ]
  },
  {
   "cell_type": "code",
   "execution_count": null,
   "metadata": {},
   "outputs": [],
   "source": [
    "print(\"Words in Corpus:\")\n",
    "wd=build_voca(corpus)\n",
    "print(wd)"
   ]
  },
  {
   "cell_type": "code",
   "execution_count": null,
   "metadata": {},
   "outputs": [],
   "source": [
    "print(len(wd))"
   ]
  },
  {
   "cell_type": "code",
   "execution_count": null,
   "metadata": {},
   "outputs": [],
   "source": [
    "print(\"Words in spam:\")\n",
    "print()\n",
    "smp=build_voca(spam)\n",
    "print(smp)"
   ]
  },
  {
   "cell_type": "code",
   "execution_count": null,
   "metadata": {},
   "outputs": [],
   "source": [
    "print(len(smp))"
   ]
  },
  {
   "cell_type": "code",
   "execution_count": null,
   "metadata": {},
   "outputs": [],
   "source": [
    "print(\"Words in ham:\")\n",
    "print()\n",
    "hmp=build_voca(ham)\n",
    "print(hmp)"
   ]
  },
  {
   "cell_type": "code",
   "execution_count": null,
   "metadata": {},
   "outputs": [],
   "source": [
    "print(len(hmp))"
   ]
  },
  {
   "cell_type": "code",
   "execution_count": null,
   "metadata": {},
   "outputs": [],
   "source": [
    "tw = sum(wd.values())\n",
    "ws = sum(smp.values())\n",
    "wh = sum(hmp.values())\n",
    "print(\"Words in Total:\",tw)\n",
    "print(\"Words in spam:\",ws)\n",
    "print(\"Words in ham:\",wh)"
   ]
  },
  {
   "cell_type": "code",
   "execution_count": null,
   "metadata": {},
   "outputs": [],
   "source": [
    "prob_sp=(len(spam)/len(corpus))\n",
    "prob_hm=(len(ham)/len(corpus))\n",
    "print(\"probablity of spam:\",prob_sp)\n",
    "print(\"probablity of ham:\",prob_hm)"
   ]
  },
  {
   "cell_type": "code",
   "execution_count": null,
   "metadata": {},
   "outputs": [],
   "source": [
    "print('marginal probability of words: ')\n",
    "mar_p={}\n",
    "for word,num_of_w in wd.items():\n",
    "    pw=num_of_w/tw\n",
    "    mar_p[word]=pw\n",
    "print(mar_p)"
   ]
  },
  {
   "cell_type": "code",
   "execution_count": null,
   "metadata": {},
   "outputs": [],
   "source": [
    "print('conditional probability of words given spam')\n",
    "con_spam={}\n",
    "for word,nw in wd.items():\n",
    "\n",
    "    nw=1   \n",
    "    if word in smp:\n",
    "        nw+=smp[word]\n",
    "    \n",
    "    d=len(set(y))\n",
    "    cpw=nw/(ws+d)  \n",
    "    con_spam[word]=cpw\n",
    "print(con_spam)\n",
    "#print(len(set(y)))"
   ]
  },
  {
   "cell_type": "code",
   "execution_count": null,
   "metadata": {},
   "outputs": [],
   "source": [
    "print('conditional probability of words given ham')\n",
    "con_ham={}\n",
    "for word,nw in wd.items():\n",
    "\n",
    "    nw=1   \n",
    "    if word in hmp:\n",
    "        nw+=hmp[word]\n",
    "    \n",
    "    d=len(set(y))\n",
    "    cpw=nw/(ws+d)  \n",
    "    con_ham[word]=cpw\n",
    "print(con_ham)"
   ]
  },
  {
   "cell_type": "code",
   "execution_count": null,
   "metadata": {},
   "outputs": [],
   "source": [
    "bw = \"তুমি কি বইখানা পড়ে শেষ করেছ \"\n",
    "print(bw)"
   ]
  },
  {
   "cell_type": "code",
   "execution_count": null,
   "metadata": {},
   "outputs": [],
   "source": [
    "def f_spam(tdoc):\n",
    "    psw=1\n",
    "    for word in get_t(tdoc):\n",
    "        prob_spam_w=con_spam[word]/  probs[word]\n",
    "        psw*=prob_spam_w\n",
    "    psw*=prob_sp\n",
    "    return psw"
   ]
  },
  {
   "cell_type": "code",
   "execution_count": null,
   "metadata": {},
   "outputs": [],
   "source": [
    "def f_ham(tdoc):\n",
    "    phw=1\n",
    "    for word in get_t(tdoc):\n",
    "        prob_ham_w=con_ham[word]/ probs[word]   \n",
    "        phw*=prob_ham_w\n",
    "    phw*=prob_hm\n",
    "    return phw"
   ]
  },
  {
   "cell_type": "code",
   "execution_count": null,
   "metadata": {},
   "outputs": [],
   "source": [
    "def result_g(tdoc):\n",
    "    psw = f_spam(tdoc)\n",
    "    phw = f_ham(tdoc)\n",
    "    \n",
    "    per_spam= (psw/(psw+phw) )*100\n",
    "    per_ham= (phw/(psw+phw) )*100\n",
    "    if(per_spam<per_ham):\n",
    "        return 0\n",
    "    else:\n",
    "        return 1"
   ]
  },
  {
   "cell_type": "code",
   "execution_count": null,
   "metadata": {},
   "outputs": [],
   "source": [
    "np_cor = np.array(corpus)\n",
    "\n",
    "new_y=np.zeros(len(corpus))\n",
    "\n",
    "for i in range(len(np_cor)):\n",
    "    rslt = result_g(np_cor[i])\n",
    "    if(rslt):\n",
    "        new_y[i] = 1\n",
    "        \n",
    "if(r):\n",
    "    print(\"ham\")\n",
    "else:\n",
    "    print(\"spam\")"
   ]
  },
  {
   "cell_type": "code",
   "execution_count": null,
   "metadata": {},
   "outputs": [],
   "source": [
    "print(new_y)"
   ]
  },
  {
   "cell_type": "markdown",
   "metadata": {},
   "source": [
    "# Confusion Matrix (for accuracy)"
   ]
  },
  {
   "cell_type": "code",
   "execution_count": null,
   "metadata": {},
   "outputs": [],
   "source": [
    "from sklearn.metrics import confusion_matrix \n",
    "from sklearn.metrics import classification_report"
   ]
  },
  {
   "cell_type": "code",
   "execution_count": null,
   "metadata": {},
   "outputs": [],
   "source": [
    "r = confusion_matrix(y, new_y) \n",
    "print(r)"
   ]
  },
  {
   "cell_type": "code",
   "execution_count": null,
   "metadata": {},
   "outputs": [],
   "source": [
    "def acu(a):\n",
    "    return ((a[0][0]+a[1][1])/len(np_cor))*100"
   ]
  },
  {
   "cell_type": "markdown",
   "metadata": {},
   "source": [
    "Accuracy"
   ]
  },
  {
   "cell_type": "code",
   "execution_count": null,
   "metadata": {},
   "outputs": [],
   "source": [
    "ac = acu(r)\n",
    "print(ac)"
   ]
  },
  {
   "cell_type": "code",
   "execution_count": null,
   "metadata": {},
   "outputs": [],
   "source": []
  }
 ],
 "metadata": {
  "kernelspec": {
   "display_name": "Python 3",
   "language": "python",
   "name": "python3"
  },
  "language_info": {
   "codemirror_mode": {
    "name": "ipython",
    "version": 3
   },
   "file_extension": ".py",
   "mimetype": "text/x-python",
   "name": "python",
   "nbconvert_exporter": "python",
   "pygments_lexer": "ipython3",
   "version": "3.8.5"
  }
 },
 "nbformat": 4,
 "nbformat_minor": 2
}
