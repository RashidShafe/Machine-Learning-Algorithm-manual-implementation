{
 "cells": [
  {
   "cell_type": "markdown",
   "metadata": {},
   "source": [
    "# LINEAR REGRESSION"
   ]
  },
  {
   "cell_type": "markdown",
   "metadata": {},
   "source": [
    "# Dataset:\n",
    "Salary_data.csv"
   ]
  },
  {
   "cell_type": "code",
   "execution_count": null,
   "metadata": {},
   "outputs": [],
   "source": [
    "import matplotlib.pyplot as plt \n",
    "import numpy as np\n",
    "from numpy import genfromtxt\n",
    "import csv"
   ]
  },
  {
   "cell_type": "code",
   "execution_count": null,
   "metadata": {},
   "outputs": [],
   "source": [
    "x = genfromtxt('salary_data.csv', delimiter=',')\n",
    "xx = np.array(x)\n",
    "xxx=np.delete(xx,0,0)\n",
    "\n",
    "X = xxx[:,0]\n",
    "Y = xxx[:,1]\n",
    "\n",
    "print(X)\n",
    "print(Y)"
   ]
  },
  {
   "cell_type": "code",
   "execution_count": null,
   "metadata": {},
   "outputs": [],
   "source": [
    "plt.scatter(X, Y, color = 'green') \n",
    "plt.xlabel('YearsExperience',color='red')\n",
    "plt.ylabel('Salary',color='red')\n",
    "plt.show()"
   ]
  },
  {
   "cell_type": "code",
   "execution_count": null,
   "metadata": {},
   "outputs": [],
   "source": [
    "k = 0;\n",
    "m = 0\n",
    "c = 0\n",
    "l = 0.0001"
   ]
  },
  {
   "cell_type": "code",
   "execution_count": null,
   "metadata": {},
   "outputs": [],
   "source": [
    "while(k<100000):\n",
    "    k=k+1\n",
    "    p=[]\n",
    "    i = 0\n",
    "    for j in X:\n",
    "        predict = m*X[i]+c\n",
    "        p.append(predict)\n",
    "        i=i+1\n",
    "        \n",
    "    dm = 0;\n",
    "    dc = 0;\n",
    "    pp = np.array(p)\n",
    "    i = 0;\n",
    "    for j in X:\n",
    "        dm = dm + X[i]*(Y[i]-pp[i]) \n",
    "        dc = dc + Y[i]-pp[i]\n",
    "        i=i+1\n",
    "\n",
    "    dm = -(2/len(X))*dm\n",
    "    dc = -(2/len(X))*dc\n",
    "    \n",
    "    m = m - l*dm\n",
    "    c = c - l*dc\n",
    "print(m)\n",
    "print(c)"
   ]
  },
  {
   "cell_type": "code",
   "execution_count": null,
   "metadata": {},
   "outputs": [],
   "source": [
    "i = 0\n",
    "pp = []\n",
    "for j in X:\n",
    "    h = m*X[i] + c\n",
    "    pp.append(h)\n",
    "    i+=1\n",
    "    print(h)\n",
    "\n",
    "PX = np.array(pp)"
   ]
  },
  {
   "cell_type": "code",
   "execution_count": null,
   "metadata": {},
   "outputs": [],
   "source": [
    "plt.scatter(X,Y,color=\"green\")\n",
    "plt.xlabel('YearsExperience',color='red')\n",
    "plt.ylabel('Salary',color='red')\n",
    "plt.plot(X,pp)\n",
    "plt.show()"
   ]
  },
  {
   "cell_type": "code",
   "execution_count": null,
   "metadata": {},
   "outputs": [],
   "source": []
  }
 ],
 "metadata": {
  "kernelspec": {
   "display_name": "Python 3",
   "language": "python",
   "name": "python3"
  },
  "language_info": {
   "codemirror_mode": {
    "name": "ipython",
    "version": 3
   },
   "file_extension": ".py",
   "mimetype": "text/x-python",
   "name": "python",
   "nbconvert_exporter": "python",
   "pygments_lexer": "ipython3",
   "version": "3.8.5"
  }
 },
 "nbformat": 4,
 "nbformat_minor": 2
}
