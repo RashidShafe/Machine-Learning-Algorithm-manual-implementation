{
 "cells": [
  {
   "cell_type": "code",
   "execution_count": 1,
   "metadata": {},
   "outputs": [],
   "source": [
    "import numpy as np\n",
    "import matplotlib.pyplot as plt\n",
    "from numpy import genfromtxt"
   ]
  },
  {
   "cell_type": "code",
   "execution_count": 2,
   "metadata": {},
   "outputs": [],
   "source": [
    "X = genfromtxt('toy_data.txt', delimiter=',')"
   ]
  },
  {
   "cell_type": "code",
   "execution_count": 28,
   "metadata": {},
   "outputs": [
    {
     "name": "stdout",
     "output_type": "stream",
     "text": [
      "[[ 8.  7.  1.]\n",
      " [ 4. 10.  1.]\n",
      " [ 9.  7.  1.]\n",
      " [ 7. 10.  1.]\n",
      " [ 9.  6.  1.]\n",
      " [ 4.  8.  1.]\n",
      " [10. 10.  1.]\n",
      " [ 2.  7. -1.]\n",
      " [ 8.  3. -1.]\n",
      " [ 7.  5. -1.]\n",
      " [ 4.  4. -1.]\n",
      " [ 4.  6. -1.]\n",
      " [ 1.  3. -1.]\n",
      " [ 2.  5. -1.]]\n",
      "[[ 8.  7.]\n",
      " [ 4. 10.]\n",
      " [ 9.  7.]\n",
      " [ 7. 10.]\n",
      " [ 9.  6.]\n",
      " [ 4.  8.]\n",
      " [10. 10.]\n",
      " [ 2.  7.]\n",
      " [ 8.  3.]\n",
      " [ 7.  5.]\n",
      " [ 4.  4.]\n",
      " [ 4.  6.]\n",
      " [ 1.  3.]\n",
      " [ 2.  5.]]\n",
      "[ 1.  1.  1.  1.  1.  1.  1. -1. -1. -1. -1. -1. -1. -1.]\n"
     ]
    }
   ],
   "source": [
    "xx = np.array(X)\n",
    "print(xx)\n",
    "XX = []\n",
    "Y = []\n",
    "for i in range(len(xx)):\n",
    "    XX.append([xx[i][0],xx[i][1]])\n",
    "\n",
    "for i in range(len(xx)):\n",
    "    Y.append(xx[i][2])\n",
    "    \n",
    "x = np.array(XX)\n",
    "y = np.array(Y)\n",
    "print(x)\n",
    "print(y)\n"
   ]
  },
  {
   "cell_type": "code",
   "execution_count": 29,
   "metadata": {},
   "outputs": [
    {
     "data": {
      "image/png": "[encoded data removed]",
      "text/plain": [
       "<Figure size 432x288 with 1 Axes>"
      ]
     },
     "metadata": {
      "needs_background": "light"
     },
     "output_type": "display_data"
    }
   ],
   "source": [
    "plt.scatter(x[:,0],x[:,1],marker='*',c=y) \n",
    "plt.show()"
   ]
  },
  {
   "cell_type": "code",
   "execution_count": 30,
   "metadata": {},
   "outputs": [],
   "source": [
    "def LR(x,w):\n",
    "    val=0\n",
    "    for i,j in zip(x,w):\n",
    "        val+=i*j\n",
    "    return val"
   ]
  },
  {
   "cell_type": "code",
   "execution_count": 31,
   "metadata": {},
   "outputs": [],
   "source": [
    "def act(val):\n",
    "    return np.sign(val)"
   ]
  },
  {
   "cell_type": "code",
   "execution_count": 32,
   "metadata": {},
   "outputs": [],
   "source": [
    "def prdt(X, w):\n",
    "    hp=[]\n",
    "    for i in x: \n",
    "        lr=LR(i,w)\n",
    "        h=act(lr)\n",
    "        hp.append(h)\n",
    "    return hp"
   ]
  },
  {
   "cell_type": "code",
   "execution_count": 35,
   "metadata": {},
   "outputs": [
    {
     "name": "stdout",
     "output_type": "stream",
     "text": [
      "[[ 1.  8.  7.]\n",
      " [ 1.  4. 10.]\n",
      " [ 1.  9.  7.]\n",
      " [ 1.  7. 10.]\n",
      " [ 1.  9.  6.]\n",
      " [ 1.  4.  8.]\n",
      " [ 1. 10. 10.]\n",
      " [ 1.  2.  7.]\n",
      " [ 1.  8.  3.]\n",
      " [ 1.  7.  5.]\n",
      " [ 1.  4.  4.]\n",
      " [ 1.  4.  6.]\n",
      " [ 1.  1.  3.]\n",
      " [ 1.  2.  5.]]\n",
      "[0.31137397 0.63792265 0.60544698]\n",
      "[1.0, 1.0, 1.0, 1.0, 1.0, 1.0, 1.0, 1.0, 1.0, 1.0, 1.0, 1.0, 1.0, 1.0]\n"
     ]
    }
   ],
   "source": [
    "Xa= np.c_[np.ones(x.shape[0]), x]\n",
    "print(Xa)\n",
    "w = np.random.rand(3)\n",
    "print(w)\n",
    "py=prdt(Xa,w)\n",
    "print(py)"
   ]
  },
  {
   "cell_type": "code",
   "execution_count": 140,
   "metadata": {},
   "outputs": [],
   "source": [
    "def get_miss_indexes(py, y):\n",
    "    miss=[]\n",
    "    for i in range(len(y)):\n",
    "        if py[i]!=y[i]:\n",
    "            miss.append(i)\n",
    "    return miss"
   ]
  },
  {
   "cell_type": "code",
   "execution_count": 141,
   "metadata": {},
   "outputs": [
    {
     "name": "stdout",
     "output_type": "stream",
     "text": [
      "12\n",
      "[1. 1. 3.]\n",
      "-1.0\n"
     ]
    }
   ],
   "source": [
    "miss=get_miss_indexes(py,y)\n",
    "rnd=np.random.choice(miss)\n",
    "print(rnd)\n",
    "rx=Xa[rnd]\n",
    "ry=y[rnd]\n",
    "print(rx)\n",
    "print(ry)"
   ]
  },
  {
   "cell_type": "code",
   "execution_count": 142,
   "metadata": {},
   "outputs": [],
   "source": [
    "def perceptron_train(X, y):\n",
    "    w = np.random.rand(3)\n",
    "    py=predict(X,w)\n",
    "    miss=get_miss_indexes(py,y) \n",
    "    while len(miss)>0:\n",
    "        rnd=np.random.choice(miss)\n",
    "        rx=X[rnd]\n",
    "        ry=y[rnd]\n",
    "        w=w+rx*ry\n",
    "        \n",
    "        py=predict(X,w)\n",
    "        miss=get_miss_indexes(py,y)\n",
    "        \n",
    "    return w"
   ]
  },
  {
   "cell_type": "code",
   "execution_count": 143,
   "metadata": {},
   "outputs": [
    {
     "name": "stdout",
     "output_type": "stream",
     "text": [
      "[-40.22270907   1.47049518   4.66545079]\n"
     ]
    }
   ],
   "source": [
    "w=perceptron_train(Xa,y)\n",
    "print(w)"
   ]
  },
  {
   "cell_type": "code",
   "execution_count": 144,
   "metadata": {},
   "outputs": [
    {
     "name": "stdout",
     "output_type": "stream",
     "text": [
      "[1.0, 1.0, 1.0, 1.0, 1.0, 1.0, 1.0, -1.0, -1.0, -1.0, -1.0, -1.0, -1.0, -1.0]\n"
     ]
    }
   ],
   "source": [
    "py=predict(Xa,w)\n",
    "print(py)"
   ]
  },
  {
   "cell_type": "code",
   "execution_count": 149,
   "metadata": {},
   "outputs": [
    {
     "name": "stdout",
     "output_type": "stream",
     "text": [
      "[0, 27.353173056485932]\n",
      "[8.621398201428569, 0]\n"
     ]
    }
   ],
   "source": [
    "px=[0, -w[0]/w[1] ] \n",
    "px2=[ -w[0]/w[2], 0 ]\n",
    "\n",
    "print(px)\n",
    "print(px2)"
   ]
  },
  {
   "cell_type": "code",
   "execution_count": 152,
   "metadata": {},
   "outputs": [
    {
     "data": {
      "image/png": "[encoded data removed]",
      "text/plain": [
       "<Figure size 432x288 with 1 Axes>"
      ]
     },
     "metadata": {
      "needs_background": "light"
     },
     "output_type": "display_data"
    }
   ],
   "source": [
    "plt.scatter(x[:,0],x[:,1],marker='*', c=y)  \n",
    "plt.plot(px, px2 )  \n",
    "plt.show()"
   ]
  },
  {
   "cell_type": "markdown",
   "metadata": {},
   "source": [
    "# Confusion Matrix (for accuracy)\n"
   ]
  },
  {
   "cell_type": "code",
   "execution_count": 153,
   "metadata": {},
   "outputs": [],
   "source": [
    "from sklearn.metrics import confusion_matrix \n",
    "from sklearn.metrics import classification_report"
   ]
  },
  {
   "cell_type": "code",
   "execution_count": 156,
   "metadata": {},
   "outputs": [
    {
     "name": "stdout",
     "output_type": "stream",
     "text": [
      "[[7 0]\n",
      " [0 7]]\n"
     ]
    }
   ],
   "source": [
    "r = confusion_matrix(y, py) \n",
    "print(r)"
   ]
  },
  {
   "cell_type": "code",
   "execution_count": 157,
   "metadata": {},
   "outputs": [],
   "source": [
    "def acu(a):\n",
    "    return ((a[0][0]+a[1][1])/len(x))*100"
   ]
  },
  {
   "cell_type": "markdown",
   "metadata": {},
   "source": [
    "Accuracy"
   ]
  },
  {
   "cell_type": "code",
   "execution_count": 158,
   "metadata": {},
   "outputs": [
    {
     "name": "stdout",
     "output_type": "stream",
     "text": [
      "100.0\n"
     ]
    }
   ],
   "source": [
    "ac = acu(r)\n",
    "print(ac)"
   ]
  },
  {
   "cell_type": "code",
   "execution_count": null,
   "metadata": {},
   "outputs": [],
   "source": []
  }
 ],
 "metadata": {
  "kernelspec": {
   "display_name": "Python 3",
   "language": "python",
   "name": "python3"
  },
  "language_info": {
   "codemirror_mode": {
    "name": "ipython",
    "version": 3
   },
   "file_extension": ".py",
   "mimetype": "text/x-python",
   "name": "python",
   "nbconvert_exporter": "python",
   "pygments_lexer": "ipython3",
   "version": "3.7.3"
  }
 },
 "nbformat": 4,
 "nbformat_minor": 2
}
